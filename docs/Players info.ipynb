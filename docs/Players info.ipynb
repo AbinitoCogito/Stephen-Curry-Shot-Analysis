{
 "cells": [
  {
   "cell_type": "code",
   "execution_count": 5,
   "id": "9b3a08ed-489c-4f61-b7ee-7d8bc797081e",
   "metadata": {},
   "outputs": [
    {
     "name": "stdout",
     "output_type": "stream",
     "text": [
      "Number of teams fetched: 30\n"
     ]
    },
    {
     "data": {
      "text/plain": [
       "[{'id': 1610612737,\n",
       "  'full_name': 'Atlanta Hawks',\n",
       "  'abbreviation': 'ATL',\n",
       "  'nickname': 'Hawks',\n",
       "  'city': 'Atlanta',\n",
       "  'state': 'Georgia',\n",
       "  'year_founded': 1949},\n",
       " {'id': 1610612738,\n",
       "  'full_name': 'Boston Celtics',\n",
       "  'abbreviation': 'BOS',\n",
       "  'nickname': 'Celtics',\n",
       "  'city': 'Boston',\n",
       "  'state': 'Massachusetts',\n",
       "  'year_founded': 1946},\n",
       " {'id': 1610612739,\n",
       "  'full_name': 'Cleveland Cavaliers',\n",
       "  'abbreviation': 'CLE',\n",
       "  'nickname': 'Cavaliers',\n",
       "  'city': 'Cleveland',\n",
       "  'state': 'Ohio',\n",
       "  'year_founded': 1970}]"
      ]
     },
     "execution_count": 5,
     "metadata": {},
     "output_type": "execute_result"
    }
   ],
   "source": [
    "nba_teams = teams.get_teams()\n",
    "print(\"Number of teams fetched: {}\".format(len(nba_teams)))\n",
    "nba_teams[:3]"
   ]
  },
  {
   "cell_type": "code",
   "execution_count": 6,
   "id": "dcb2eb16-c840-48cb-8567-e026851e2012",
   "metadata": {},
   "outputs": [
    {
     "name": "stdout",
     "output_type": "stream",
     "text": [
      "Number of players fetched: 5019\n"
     ]
    },
    {
     "data": {
      "text/plain": [
       "[{'id': 76001,\n",
       "  'full_name': 'Alaa Abdelnaby',\n",
       "  'first_name': 'Alaa',\n",
       "  'last_name': 'Abdelnaby',\n",
       "  'is_active': False},\n",
       " {'id': 76002,\n",
       "  'full_name': 'Zaid Abdul-Aziz',\n",
       "  'first_name': 'Zaid',\n",
       "  'last_name': 'Abdul-Aziz',\n",
       "  'is_active': False},\n",
       " {'id': 76003,\n",
       "  'full_name': 'Kareem Abdul-Jabbar',\n",
       "  'first_name': 'Kareem',\n",
       "  'last_name': 'Abdul-Jabbar',\n",
       "  'is_active': False},\n",
       " {'id': 51,\n",
       "  'full_name': 'Mahmoud Abdul-Rauf',\n",
       "  'first_name': 'Mahmoud',\n",
       "  'last_name': 'Abdul-Rauf',\n",
       "  'is_active': False},\n",
       " {'id': 1505,\n",
       "  'full_name': 'Tariq Abdul-Wahad',\n",
       "  'first_name': 'Tariq',\n",
       "  'last_name': 'Abdul-Wahad',\n",
       "  'is_active': False}]"
      ]
     },
     "execution_count": 6,
     "metadata": {},
     "output_type": "execute_result"
    }
   ],
   "source": [
    "nba_players = players.get_players()\n",
    "print(\"Number of players fetched: {}\".format(len(nba_players)))\n",
    "nba_players[:5]"
   ]
  },
  {
   "cell_type": "code",
   "execution_count": 7,
   "id": "449335d7-e7e9-45a9-a3a1-c59344aa8d44",
   "metadata": {},
   "outputs": [
    {
     "name": "stdout",
     "output_type": "stream",
     "text": [
      "    PLAYER_ID SEASON_ID LEAGUE_ID     TEAM_ID TEAM_ABBREVIATION  PLAYER_AGE  \\\n",
      "0      201939   2009-10        00  1610612744               GSW        22.0   \n",
      "1      201939   2010-11        00  1610612744               GSW        23.0   \n",
      "2      201939   2011-12        00  1610612744               GSW        24.0   \n",
      "3      201939   2012-13        00  1610612744               GSW        25.0   \n",
      "4      201939   2013-14        00  1610612744               GSW        26.0   \n",
      "5      201939   2014-15        00  1610612744               GSW        27.0   \n",
      "6      201939   2015-16        00  1610612744               GSW        28.0   \n",
      "7      201939   2016-17        00  1610612744               GSW        29.0   \n",
      "8      201939   2017-18        00  1610612744               GSW        30.0   \n",
      "9      201939   2018-19        00  1610612744               GSW        31.0   \n",
      "10     201939   2019-20        00  1610612744               GSW        32.0   \n",
      "11     201939   2020-21        00  1610612744               GSW        33.0   \n",
      "12     201939   2021-22        00  1610612744               GSW        34.0   \n",
      "13     201939   2022-23        00  1610612744               GSW        35.0   \n",
      "14     201939   2023-24        00  1610612744               GSW        36.0   \n",
      "\n",
      "    GP  GS     MIN  FGM   FGA  FG_PCT  FG3M  FG3A  FG3_PCT  FTM  FTA  FT_PCT  \\\n",
      "0   80  77  2896.0  528  1143   0.462   166   380    0.437  177  200   0.885   \n",
      "1   74  74  2489.0  505  1053   0.480   151   342    0.442  212  227   0.934   \n",
      "2   26  23   732.0  145   296   0.490    55   121    0.455   38   47   0.809   \n",
      "3   78  78  2983.0  626  1388   0.451   272   600    0.453  262  291   0.900   \n",
      "4   78  78  2846.0  652  1383   0.471   261   615    0.424  308  348   0.885   \n",
      "5   80  80  2613.0  653  1341   0.487   286   646    0.443  308  337   0.914   \n",
      "6   79  79  2700.0  805  1598   0.504   402   886    0.454  363  400   0.908   \n",
      "7   79  79  2639.0  675  1443   0.468   324   789    0.411  325  362   0.898   \n",
      "8   51  51  1631.0  428   864   0.495   212   501    0.423  278  302   0.921   \n",
      "9   69  69  2331.0  632  1340   0.472   354   810    0.437  263  287   0.916   \n",
      "10   5   5   139.0   33    82   0.402    12    49    0.245   26   26   1.000   \n",
      "11  63  63  2152.0  658  1365   0.482   337   801    0.421  362  395   0.916   \n",
      "12  64  64  2211.0  535  1224   0.437   285   750    0.380  275  298   0.923   \n",
      "13  56  56  1941.0  559  1133   0.493   273   639    0.427  257  281   0.915   \n",
      "14  74  74  2422.0  650  1445   0.450   357   876    0.408  299  324   0.923   \n",
      "\n",
      "    OREB  DREB  REB  AST  STL  BLK  TOV   PF   PTS  \n",
      "0     48   308  356  472  152   19  243  252  1399  \n",
      "1     52   234  286  432  109   20  226  233  1373  \n",
      "2     15    73   88  138   39    8   65   62   383  \n",
      "3     59   255  314  539  126   12  240  198  1786  \n",
      "4     46   288  334  666  128   14  294  194  1873  \n",
      "5     56   285  341  619  163   16  249  158  1900  \n",
      "6     68   362  430  527  169   15  262  161  2375  \n",
      "7     61   292  353  524  142   17  239  183  1999  \n",
      "8     36   225  261  310   80    8  153  114  1346  \n",
      "9     45   324  369  361   92   25  192  166  1881  \n",
      "10     4    22   26   33    5    2   16   11   104  \n",
      "11    29   316  345  363   77    8  213  119  2015  \n",
      "12    34   301  335  404   85   23  206  130  1630  \n",
      "13    39   302  341  352   52   20  179  117  1648  \n",
      "14    37   293  330  379   54   28  210  117  1956  \n"
     ]
    }
   ],
   "source": [
    "curry = [player for player in nba_players if player['full_name']=='Stephen Curry']\n",
    "curry\n",
    "career_curry = playercareerstats.PlayerCareerStats(player_id=\"201939\")\n",
    "df_curry = career_curry.get_data_frames()[0]\n",
    "print(df_curry)"
   ]
  },
  {
   "cell_type": "markdown",
   "id": "e1b32a37-e4fb-4467-adde-857ef7b0972b",
   "metadata": {},
   "source": [
    "By using list comprehension, filtered Stephen Curry among nba_players.Then, with PlayerCareerStats(), we get box score and basic career statistics of Curry."
   ]
  }
 ],
 "metadata": {
  "kernelspec": {
   "display_name": "Python 3 (ipykernel)",
   "language": "python",
   "name": "python3"
  },
  "language_info": {
   "codemirror_mode": {
    "name": "ipython",
    "version": 3
   },
   "file_extension": ".py",
   "mimetype": "text/x-python",
   "name": "python",
   "nbconvert_exporter": "python",
   "pygments_lexer": "ipython3",
   "version": "3.11.7"
  }
 },
 "nbformat": 4,
 "nbformat_minor": 5
}
